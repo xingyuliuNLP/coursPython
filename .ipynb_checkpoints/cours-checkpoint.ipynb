{
 "cells": [
  {
   "cell_type": "code",
   "execution_count": 1,
   "metadata": {},
   "outputs": [
    {
     "ename": "TypeError",
     "evalue": "'str' object does not support item assignment",
     "output_type": "error",
     "traceback": [
      "\u001b[0;31m---------------------------------------------------------------------------\u001b[0m",
      "\u001b[0;31mTypeError\u001b[0m                                 Traceback (most recent call last)",
      "\u001b[0;32m<ipython-input-1-55f7cb03d63f>\u001b[0m in \u001b[0;36m<module>\u001b[0;34m\u001b[0m\n\u001b[1;32m      1\u001b[0m \u001b[0;31m# les chaînes sont des séquences non modifiables\u001b[0m\u001b[0;34m\u001b[0m\u001b[0;34m\u001b[0m\u001b[0;34m\u001b[0m\u001b[0m\n\u001b[1;32m      2\u001b[0m \u001b[0mx\u001b[0m \u001b[0;34m=\u001b[0m \u001b[0;34m\"bonjour\"\u001b[0m\u001b[0;34m\u001b[0m\u001b[0;34m\u001b[0m\u001b[0m\n\u001b[0;32m----> 3\u001b[0;31m \u001b[0mx\u001b[0m\u001b[0;34m[\u001b[0m\u001b[0;36m0\u001b[0m\u001b[0;34m]\u001b[0m \u001b[0;34m=\u001b[0m \u001b[0;34m\"B\"\u001b[0m\u001b[0;34m\u001b[0m\u001b[0;34m\u001b[0m\u001b[0m\n\u001b[0m",
      "\u001b[0;31mTypeError\u001b[0m: 'str' object does not support item assignment"
     ]
    }
   ],
   "source": [
    "# les chaînes sont des séquences non modifiables\n",
    "x = \"bonjour\"\n",
    "x[0] = \"B\""
   ]
  },
  {
   "cell_type": "code",
   "execution_count": 2,
   "metadata": {},
   "outputs": [
    {
     "name": "stdout",
     "output_type": "stream",
     "text": [
      "le mot hello precede le mot salut dans l'ordre alphabetique\n"
     ]
    }
   ],
   "source": [
    "n= \"hello\"\n",
    "if n<\"salut\":\n",
    "    place = \"precede\"\n",
    "elif n>\"salut\":\n",
    "    place = \"suit\"\n",
    "else:\n",
    "    place = \"se confond avec\"\n",
    "print(\"le mot\", n, place, \"le mot salut dans l'ordre alphabetique\")"
   ]
  },
  {
   "cell_type": "code",
   "execution_count": 4,
   "metadata": {},
   "outputs": [
    {
     "data": {
      "text/plain": [
       "0"
      ]
     },
     "execution_count": 4,
     "metadata": {},
     "output_type": "execute_result"
    }
   ],
   "source": [
    "int(0)"
   ]
  },
  {
   "cell_type": "code",
   "execution_count": 5,
   "metadata": {},
   "outputs": [
    {
     "name": "stdout",
     "output_type": "stream",
     "text": [
      "0\n",
      "faux\n"
     ]
    }
   ],
   "source": [
    "ch = input()\n",
    "n=int(ch)\n",
    "if n:\n",
    "    print(\"vrai\")\n",
    "else:\n",
    "    print(\"faux\")"
   ]
  },
  {
   "cell_type": "code",
   "execution_count": 7,
   "metadata": {},
   "outputs": [
    {
     "name": "stdout",
     "output_type": "stream",
     "text": [
      "input a word:  \n",
      "le mot   precede le mot 'limonade' dans l'ordre alphabetique\n",
      "input a word: \n"
     ]
    }
   ],
   "source": [
    "while True:\n",
    "    mot = input(\"input a word: \")\n",
    "    if mot == \"\":\n",
    "        break\n",
    "    if mot < \"limonada\":\n",
    "        place = \"precede\"\n",
    "    elif mot > \"limonade\":\n",
    "        place = \" suit\"\n",
    "    else:\n",
    "        place = \"se confond avec\"\n",
    "    print(\"le mot\", mot, place, \"le mot 'limonade' dans l'ordre alphabetique\")"
   ]
  },
  {
   "cell_type": "code",
   "execution_count": 1,
   "metadata": {},
   "outputs": [
    {
     "name": "stdout",
     "output_type": "stream",
     "text": [
      "q pour quitter:q\n",
      "fin\n"
     ]
    }
   ],
   "source": [
    "while 1:\n",
    "    l = input(\"q pour quitter:\")\n",
    "    if l==\"q\":\n",
    "        print(\"fin\")\n",
    "        break"
   ]
  },
  {
   "cell_type": "code",
   "execution_count": 5,
   "metadata": {},
   "outputs": [
    {
     "name": "stdout",
     "output_type": "stream",
     "text": [
      "i= 1\n",
      "i= 2\n",
      "on incremente i de 4, il est mtn egale a, i\n",
      "i= 7\n",
      "i= 8\n",
      "on incremente i de 4, il est mtn egale a, i\n",
      "i= 13\n",
      "i= 14\n",
      "on incremente i de 4, il est mtn egale a, i\n",
      "i= 19\n"
     ]
    }
   ],
   "source": [
    "i=1\n",
    "while i<20:\n",
    "    if i%3==0:\n",
    "        i+=4\n",
    "        print(\"on incremente i de 4, il est mtn egale a, i\")\n",
    "#         continue\n",
    "    print(\"i=\",i)\n",
    "    i+=1"
   ]
  },
  {
   "cell_type": "code",
   "execution_count": 6,
   "metadata": {},
   "outputs": [
    {
     "name": "stdout",
     "output_type": "stream",
     "text": [
      "Jack\n",
      "Kack\n",
      "Lack\n",
      "Mack\n",
      "Nack\n",
      "Oack\n",
      "Pack\n"
     ]
    }
   ],
   "source": [
    "prefix = 'JKLMNOP'\n",
    "for i in range(len(prefix)):\n",
    "    print(prefix[i] + \"ack\")"
   ]
  },
  {
   "cell_type": "code",
   "execution_count": 7,
   "metadata": {},
   "outputs": [
    {
     "name": "stdout",
     "output_type": "stream",
     "text": [
      "end\n",
      "yes\n"
     ]
    }
   ],
   "source": [
    "suite = input()\n",
    "suite_str = str(suite)\n",
    "if \"e\" in suite:\n",
    "    print(\"yes\")\n",
    "else:\n",
    "    print(\"n\")"
   ]
  },
  {
   "cell_type": "code",
   "execution_count": 11,
   "metadata": {},
   "outputs": [
    {
     "name": "stdout",
     "output_type": "stream",
     "text": [
      "1,2,3\n"
     ]
    },
    {
     "data": {
      "text/plain": [
       "[1, 2, 3]"
      ]
     },
     "execution_count": 11,
     "metadata": {},
     "output_type": "execute_result"
    }
   ],
   "source": [
    "## eval()\n",
    "ch = input()\n",
    "list(eval(ch))"
   ]
  },
  {
   "cell_type": "code",
   "execution_count": 1,
   "metadata": {},
   "outputs": [],
   "source": [
    "from turtle import *\n",
    "forward(120)\n",
    "left(90)\n",
    "color(\"red\")\n",
    "forward(80)"
   ]
  },
  {
   "cell_type": "code",
   "execution_count": null,
   "metadata": {},
   "outputs": [],
   "source": []
  }
 ],
 "metadata": {
  "kernelspec": {
   "display_name": "Python 3",
   "language": "python",
   "name": "python3"
  },
  "language_info": {
   "codemirror_mode": {
    "name": "ipython",
    "version": 3
   },
   "file_extension": ".py",
   "mimetype": "text/x-python",
   "name": "python",
   "nbconvert_exporter": "python",
   "pygments_lexer": "ipython3",
   "version": "3.7.3"
  }
 },
 "nbformat": 4,
 "nbformat_minor": 2
}
