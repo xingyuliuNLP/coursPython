{
 "cells": [
  {
   "cell_type": "markdown",
   "metadata": {},
   "source": [
    "## cours 1"
   ]
  },
  {
   "cell_type": "markdown",
   "metadata": {},
   "source": [
    "### code"
   ]
  },
  {
   "cell_type": "code",
   "execution_count": 241,
   "metadata": {},
   "outputs": [],
   "source": [
    "# coding: utf-8\n",
    "# difference python 2 et python 3 sur /\n",
    "# L’opérateur de division / effectue une division\n",
    "# réelle\n",
    "# – Pour obtenir une division entière (le résultat est\n",
    "# un entier), utiliser //  *, +, /, //, **\n",
    "# "
   ]
  },
  {
   "cell_type": "code",
   "execution_count": 2,
   "metadata": {},
   "outputs": [
    {
     "name": "stdout",
     "output_type": "stream",
     "text": [
      "hehehaha\n",
      "hehe haha\n"
     ]
    }
   ],
   "source": [
    "n = input(\"hehe\")  # put s\n",
    "print(\"hehe\",n)"
   ]
  },
  {
   "cell_type": "code",
   "execution_count": 245,
   "metadata": {},
   "outputs": [
    {
     "name": "stdout",
     "output_type": "stream",
     "text": [
      "9\n"
     ]
    }
   ],
   "source": [
    "print(n)"
   ]
  },
  {
   "cell_type": "code",
   "execution_count": 3,
   "metadata": {},
   "outputs": [
    {
     "data": {
      "text/plain": [
       "1"
      ]
     },
     "execution_count": 3,
     "metadata": {},
     "output_type": "execute_result"
    }
   ],
   "source": [
    "10%3  # modulo whole division divise par ?"
   ]
  },
  {
   "cell_type": "code",
   "execution_count": 7,
   "metadata": {},
   "outputs": [],
   "source": [
    "\n",
    "x = y = 7 # affectation simultanee"
   ]
  },
  {
   "cell_type": "code",
   "execution_count": 117,
   "metadata": {},
   "outputs": [],
   "source": [
    "a,b = 4,8.44 # affection parallele\n",
    "\n",
    "# Contrôle du flux d’exécution : if while for etc.\n",
    "# boolean == !=\n",
    "# instructions imbriquees"
   ]
  },
  {
   "cell_type": "code",
   "execution_count": 121,
   "metadata": {},
   "outputs": [],
   "source": [
    "a,b,c,d = 1,2,3,4"
   ]
  },
  {
   "cell_type": "markdown",
   "metadata": {},
   "source": [
    "### exercise"
   ]
  },
  {
   "cell_type": "code",
   "execution_count": 122,
   "metadata": {},
   "outputs": [
    {
     "name": "stdout",
     "output_type": "stream",
     "text": [
      "2 1\n"
     ]
    }
   ],
   "source": [
    "# beginning exercise exercise 1 : echanger les valeurs de a et b\n",
    "temp = a \n",
    "a = b\n",
    "b= temp\n",
    "print(a,b)\n"
   ]
  },
  {
   "cell_type": "code",
   "execution_count": 233,
   "metadata": {},
   "outputs": [
    {
     "name": "stdout",
     "output_type": "stream",
     "text": [
      "1 3 4 7 11 18 29 47 "
     ]
    }
   ],
   "source": [
    "# exercise 2 : creer une suite de finonacci\n",
    "while c < 11 :\n",
    "    print(b,end=\" \")\n",
    "    a,b,c = b,a+b,c+1\n",
    "# L’argument end=\" \" signifie qu’on souhaite remplacer le\n",
    "# saut de la ligne par une simple espace"
   ]
  },
  {
   "cell_type": "code",
   "execution_count": 7,
   "metadata": {},
   "outputs": [
    {
     "name": "stdout",
     "output_type": "stream",
     "text": [
      "input a number4\n",
      "in\n"
     ]
    }
   ],
   "source": [
    "#  exercise 3: Faire un test pour savoir si a est compris dans l’intervalle allant de 2 à 8\n",
    "a = float(input(\"input a number\"))\n",
    "if a in range(2,9):\n",
    "    print(\"in\")"
   ]
  },
  {
   "cell_type": "code",
   "execution_count": 9,
   "metadata": {},
   "outputs": [
    {
     "name": "stdout",
     "output_type": "stream",
     "text": [
      "7\n",
      "14\n",
      "21*\n",
      "28\n",
      "35\n",
      "42*\n",
      "49\n",
      "56\n",
      "63*\n",
      "70\n"
     ]
    }
   ],
   "source": [
    "# exercise 4 : Afficher les 10 premiers termes de la table de multiplication par 7, \n",
    "# en signalant au passage (à l’aide d’une astérisque) ceux qui sont des multiples de 3.\n",
    "for i in range(1,11):\n",
    "    if (7*i)%3 == 0:\n",
    "        print(str(7*i) + \"*\")\n",
    "    else :\n",
    "        print(7*i)"
   ]
  },
  {
   "cell_type": "code",
   "execution_count": 11,
   "metadata": {},
   "outputs": [
    {
     "name": "stdout",
     "output_type": "stream",
     "text": [
      "12 36 108 324 972 2916 8748 26244 78732 236196 "
     ]
    }
   ],
   "source": [
    "# exercise 5 : Afficher une suite de 10 nombres dont chaque terme soit égale au triple du terme précédent\n",
    "a = 4\n",
    "for i in range(10):\n",
    "    print(a*3, end = \" \")\n",
    "    a = a*3\n",
    "# end exercise"
   ]
  },
  {
   "cell_type": "markdown",
   "metadata": {},
   "source": [
    "## cours 2"
   ]
  },
  {
   "cell_type": "markdown",
   "metadata": {},
   "source": [
    "### Code"
   ]
  },
  {
   "cell_type": "code",
   "execution_count": 22,
   "metadata": {},
   "outputs": [
    {
     "name": "stdout",
     "output_type": "stream",
     "text": [
      "0 : <class 'int'>\n",
      "1 : <class 'int'>\n",
      "2 : <class 'int'>\n",
      "3 : <class 'int'>\n",
      "4 : <class 'int'>\n",
      "5 : <class 'int'>\n",
      "6 : <class 'int'>\n",
      "7 : <class 'int'>\n",
      "8 : <class 'int'>\n",
      "9 : <class 'int'>\n",
      "10 : <class 'int'>\n",
      "11 : <class 'int'>\n",
      "12 : <class 'int'>\n",
      "13 : <class 'int'>\n",
      "14 : <class 'int'>\n",
      "15 : <class 'int'>\n",
      "16 : <class 'int'>\n",
      "17 : <class 'int'>\n",
      "18 : <class 'int'>\n",
      "19 : <class 'int'>\n",
      "20 : <class 'int'>\n",
      "21 : <class 'int'>\n",
      "22 : <class 'int'>\n",
      "23 : <class 'int'>\n",
      "24 : <class 'int'>\n",
      "25 : <class 'int'>\n",
      "26 : <class 'int'>\n",
      "27 : <class 'int'>\n",
      "28 : <class 'int'>\n",
      "29 : <class 'int'>\n",
      "30 : <class 'int'>\n",
      "31 : <class 'int'>\n",
      "32 : <class 'int'>\n",
      "33 : <class 'int'>\n",
      "34 : <class 'int'>\n",
      "35 : <class 'int'>\n",
      "36 : <class 'int'>\n",
      "37 : <class 'int'>\n",
      "38 : <class 'int'>\n",
      "39 : <class 'int'>\n",
      "40 : <class 'int'>\n",
      "41 : <class 'int'>\n",
      "42 : <class 'int'>\n",
      "43 : <class 'int'>\n",
      "44 : <class 'int'>\n",
      "45 : <class 'int'>\n",
      "46 : <class 'int'>\n",
      "47 : <class 'int'>\n",
      "48 : <class 'int'>\n",
      "49 : <class 'int'>\n"
     ]
    }
   ],
   "source": [
    "for i in range(50):\n",
    "    print(i,\":\",type(i))"
   ]
  },
  {
   "cell_type": "code",
   "execution_count": 24,
   "metadata": {},
   "outputs": [
    {
     "name": "stdout",
     "output_type": "stream",
     "text": [
      "j'aime bien\n"
     ]
    }
   ],
   "source": [
    "phrase = \"j'aime bien\"; print(phrase)"
   ]
  },
  {
   "cell_type": "code",
   "execution_count": 25,
   "metadata": {},
   "outputs": [
    {
     "name": "stdout",
     "output_type": "stream",
     "text": [
      "\"hehe\"\n"
     ]
    }
   ],
   "source": [
    "phrase = '\"hehe\"'; print(phrase)"
   ]
  },
  {
   "cell_type": "code",
   "execution_count": 27,
   "metadata": {},
   "outputs": [
    {
     "name": "stdout",
     "output_type": "stream",
     "text": [
      "\"N'est-ce pas\"\n"
     ]
    }
   ],
   "source": [
    "txt3 = '\"N\\'est-ce pas\"'; print(txt3)"
   ]
  },
  {
   "cell_type": "code",
   "execution_count": 29,
   "metadata": {},
   "outputs": [
    {
     "name": "stdout",
     "output_type": "stream",
     "text": [
      "\n",
      "    Usage: hehe[]\n",
      "    {\n",
      "     -h\n",
      "     -H hote\n",
      "    }\n",
      "\n"
     ]
    }
   ],
   "source": [
    "a1 = \"\"\"\n",
    "    Usage: hehe[]\n",
    "    {\n",
    "     -h\n",
    "     -H hote\n",
    "    }\n",
    "\"\"\"; print(a1)"
   ]
  },
  {
   "cell_type": "code",
   "execution_count": 30,
   "metadata": {},
   "outputs": [
    {
     "name": "stdout",
     "output_type": "stream",
     "text": [
      "C i\n"
     ]
    }
   ],
   "source": [
    "# chaine de caracteres\n",
    "ch = \"Christine\"\n",
    "print(ch[0],ch[3])"
   ]
  },
  {
   "cell_type": "code",
   "execution_count": 31,
   "metadata": {},
   "outputs": [
    {
     "name": "stdout",
     "output_type": "stream",
     "text": [
      "547\n"
     ]
    }
   ],
   "source": [
    "ch = '544'\n",
    "print(int(ch)+3)"
   ]
  },
  {
   "cell_type": "code",
   "execution_count": 32,
   "metadata": {},
   "outputs": [
    {
     "name": "stdout",
     "output_type": "stream",
     "text": [
      "c C\n"
     ]
    }
   ],
   "source": [
    "nom = \"Cedric\"\n",
    "print(nom[-1],nom[-6])"
   ]
  },
  {
   "cell_type": "code",
   "execution_count": 34,
   "metadata": {},
   "outputs": [
    {
     "name": "stdout",
     "output_type": "stream",
     "text": [
      "Ced\n",
      "ric\n"
     ]
    }
   ],
   "source": [
    "print(nom[:3])\n",
    "print(nom[3:])"
   ]
  },
  {
   "cell_type": "code",
   "execution_count": 36,
   "metadata": {},
   "outputs": [
    {
     "name": "stdout",
     "output_type": "stream",
     "text": [
      "test test test test \n"
     ]
    }
   ],
   "source": [
    "print(\"test \"*4)"
   ]
  },
  {
   "cell_type": "code",
   "execution_count": 38,
   "metadata": {},
   "outputs": [
    {
     "name": "stdout",
     "output_type": "stream",
     "text": [
      "e est une voyelle\n"
     ]
    }
   ],
   "source": [
    "car = \"e\"\n",
    "voyelle = \"aeiouy\"\n",
    "if car in voyelle:\n",
    "    print(car + \" est une voyelle\")"
   ]
  },
  {
   "cell_type": "code",
   "execution_count": 39,
   "metadata": {},
   "outputs": [
    {
     "ename": "TypeError",
     "evalue": "'str' object does not support item assignment",
     "output_type": "error",
     "traceback": [
      "\u001b[0;31m---------------------------------------------------------------------------\u001b[0m",
      "\u001b[0;31mTypeError\u001b[0m                                 Traceback (most recent call last)",
      "\u001b[0;32m<ipython-input-39-4a15398d783f>\u001b[0m in \u001b[0;36m<module>\u001b[0;34m()\u001b[0m\n\u001b[1;32m      1\u001b[0m \u001b[0;31m# les chaine sont inmodifiables\u001b[0m\u001b[0;34m\u001b[0m\u001b[0;34m\u001b[0m\u001b[0m\n\u001b[1;32m      2\u001b[0m \u001b[0msalut\u001b[0m \u001b[0;34m=\u001b[0m \u001b[0;34m\"bonjour a tous\"\u001b[0m\u001b[0;34m\u001b[0m\u001b[0m\n\u001b[0;32m----> 3\u001b[0;31m \u001b[0msalut\u001b[0m\u001b[0;34m[\u001b[0m\u001b[0;36m0\u001b[0m\u001b[0;34m]\u001b[0m \u001b[0;34m=\u001b[0m \u001b[0;34m'B'\u001b[0m\u001b[0;34m\u001b[0m\u001b[0m\n\u001b[0m",
      "\u001b[0;31mTypeError\u001b[0m: 'str' object does not support item assignment"
     ]
    }
   ],
   "source": [
    "# les chaine sont inmodifiables\n",
    "salut = \"bonjour a tous\"\n",
    "salut[0] = 'B'"
   ]
  },
  {
   "cell_type": "code",
   "execution_count": 40,
   "metadata": {},
   "outputs": [
    {
     "name": "stdout",
     "output_type": "stream",
     "text": [
      "Bonjour a tous\n"
     ]
    }
   ],
   "source": [
    "salut = 'B' + salut[1:];print(salut)"
   ]
  },
  {
   "cell_type": "code",
   "execution_count": 41,
   "metadata": {},
   "outputs": [
    {
     "name": "stdout",
     "output_type": "stream",
     "text": [
      "le mot  hello precede le mot 'salut' dans l'ordre alphabetique\n"
     ]
    }
   ],
   "source": [
    "# ne fonctionne bien que pour des mots qui sont tous entièrement en minuscules, ou entièrement en majuscules, et qui ne comportent aucun caractère accentue car les majuscules et minuscules utilisent des ensembles de codes distincts.\n",
    "\n",
    "# les caractères accentuées sont encodés en dehors l’ensemble constitué par les caractères du standard ASCII.\n",
    "\n",
    "n = \"hello\"\n",
    "if n < \"salut\":\n",
    "    place = \"precede\"\n",
    "elif n > \"salut\":\n",
    "    place = \"suit\"\n",
    "else :\n",
    "    place = \"se confond avec\"\n",
    "print(\"le mot \",n,place,\"le mot 'salut' dans l'ordre alphabetique\")"
   ]
  },
  {
   "cell_type": "code",
   "execution_count": 44,
   "metadata": {},
   "outputs": [
    {
     "data": {
      "text/plain": [
       "True"
      ]
     },
     "execution_count": 44,
     "metadata": {},
     "output_type": "execute_result"
    }
   ],
   "source": [
    "\"hello\" < \"salut\"\n"
   ]
  },
  {
   "cell_type": "code",
   "execution_count": 45,
   "metadata": {},
   "outputs": [
    {
     "data": {
      "text/plain": [
       "True"
      ]
     },
     "execution_count": 45,
     "metadata": {},
     "output_type": "execute_result"
    }
   ],
   "source": [
    "\"a\" < \"b\""
   ]
  },
  {
   "cell_type": "code",
   "execution_count": 46,
   "metadata": {},
   "outputs": [
    {
     "name": "stdout",
     "output_type": "stream",
     "text": [
      "bonjour a tous\n"
     ]
    }
   ],
   "source": [
    "print(\"bonjour\",\"a\",\"tous\",sep=\" \")"
   ]
  },
  {
   "cell_type": "code",
   "execution_count": 47,
   "metadata": {},
   "outputs": [
    {
     "name": "stdout",
     "output_type": "stream",
     "text": [
      "zutzutzutzutzutzut"
     ]
    }
   ],
   "source": [
    "# On peut remplacer le saut à la ligne terminal avec l’argument « end »\n",
    "n=0\n",
    "while n<6:\n",
    "    print(\"zut\",end=\"\")\n",
    "    n+=1"
   ]
  },
  {
   "cell_type": "code",
   "execution_count": 49,
   "metadata": {},
   "outputs": [
    {
     "name": "stdout",
     "output_type": "stream",
     "text": [
      "entrez une donne numerique3\n"
     ]
    },
    {
     "data": {
      "text/plain": [
       "float"
      ]
     },
     "execution_count": 49,
     "metadata": {},
     "output_type": "execute_result"
    }
   ],
   "source": [
    "a = input(\"entrez une donne numerique\")\n",
    "type(a)\n",
    "b= float(a)  # convertir en nombre reel\n",
    "type(b)"
   ]
  },
  {
   "cell_type": "code",
   "execution_count": 50,
   "metadata": {},
   "outputs": [
    {
     "data": {
      "text/plain": [
       "12.23"
      ]
     },
     "execution_count": 50,
     "metadata": {},
     "output_type": "execute_result"
    }
   ],
   "source": [
    "float(\"12.23\")  # int  str"
   ]
  },
  {
   "cell_type": "code",
   "execution_count": 54,
   "metadata": {},
   "outputs": [
    {
     "data": {
      "text/plain": [
       "False"
      ]
     },
     "execution_count": 54,
     "metadata": {},
     "output_type": "execute_result"
    }
   ],
   "source": [
    "# seule la valeur 0 est fausse\n",
    "True == 0"
   ]
  },
  {
   "cell_type": "code",
   "execution_count": 55,
   "metadata": {},
   "outputs": [
    {
     "data": {
      "text/plain": [
       "False"
      ]
     },
     "execution_count": 55,
     "metadata": {},
     "output_type": "execute_result"
    }
   ],
   "source": [
    "True == \"tset\"\n",
    "# if ch = if ch!=\"\""
   ]
  },
  {
   "cell_type": "code",
   "execution_count": 56,
   "metadata": {},
   "outputs": [
    {
     "data": {
      "text/plain": [
       "True"
      ]
     },
     "execution_count": 56,
     "metadata": {},
     "output_type": "execute_result"
    }
   ],
   "source": [
    "\"test\"!=\"\""
   ]
  },
  {
   "cell_type": "code",
   "execution_count": 59,
   "metadata": {},
   "outputs": [
    {
     "name": "stdout",
     "output_type": "stream",
     "text": [
      "input a word: test\n",
      "le mot test  suit le mot 'limonade' dans l'ordre alphabetique\n",
      "input a word: \n"
     ]
    }
   ],
   "source": [
    "while True:\n",
    "    mot = input(\"input a word: \")\n",
    "    if mot == \"\":\n",
    "        break\n",
    "    if mot < \"limonada\":\n",
    "        place = \"precede\"\n",
    "    elif mot > \"limonade\":\n",
    "        place = \" suit\"\n",
    "    else:\n",
    "        place = \"se confond avec\"\n",
    "    print(\"le mot\", mot, place, \"le mot 'limonade' dans l'ordre alphabetique\")"
   ]
  },
  {
   "cell_type": "code",
   "execution_count": 83,
   "metadata": {},
   "outputs": [
    {
     "name": "stdout",
     "output_type": "stream",
     "text": [
      "la variable i = 1\n",
      "la variable i = 2\n",
      "on incrémente i de 4. i est maintenant égale à 7\n",
      "la variable i = 7\n",
      "la variable i = 8\n",
      "on incrémente i de 4. i est maintenant égale à 13\n",
      "la variable i = 13\n",
      "la variable i = 14\n",
      "on incrémente i de 4. i est maintenant égale à 19\n",
      "la variable i = 19\n"
     ]
    }
   ],
   "source": [
    "# continue\n",
    "i = 1\n",
    "while i <20:\n",
    "    if i%3==0:\n",
    "        i+=4  # i = i + 4\n",
    "        print(\"on incrémente i de 4. i est maintenant égale à\", i)\n",
    "        continue\n",
    "    print(\"la variable i =\", i)\n",
    "    i+=1"
   ]
  },
  {
   "cell_type": "code",
   "execution_count": 76,
   "metadata": {},
   "outputs": [],
   "source": [
    "i = 1"
   ]
  },
  {
   "cell_type": "code",
   "execution_count": 77,
   "metadata": {},
   "outputs": [],
   "source": [
    "i=+8"
   ]
  },
  {
   "cell_type": "code",
   "execution_count": 78,
   "metadata": {},
   "outputs": [
    {
     "name": "stdout",
     "output_type": "stream",
     "text": [
      "8\n"
     ]
    }
   ],
   "source": [
    "print(i)"
   ]
  },
  {
   "cell_type": "code",
   "execution_count": 67,
   "metadata": {},
   "outputs": [
    {
     "name": "stdout",
     "output_type": "stream",
     "text": [
      "17.36\n",
      "204\n",
      "17 est un entier et ['Emile', 7.65] est une liste.\n"
     ]
    }
   ],
   "source": [
    "a = float(\"12.36\")\n",
    "print(a + 5)\n",
    "a = int(\"184\")\n",
    "print(a + 20)\n",
    "a, b = 17, [\"Emile\", 7.65]\n",
    "ch =str(a) +\" est un entier et \" +str(b) +\" est une liste.\"\n",
    "print(ch)"
   ]
  },
  {
   "cell_type": "markdown",
   "metadata": {},
   "source": [
    "### exercises"
   ]
  },
  {
   "cell_type": "code",
   "execution_count": 84,
   "metadata": {},
   "outputs": [
    {
     "name": "stdout",
     "output_type": "stream",
     "text": [
      "Jack Kack Lack Mack Nack Oack Pack "
     ]
    }
   ],
   "source": [
    "# exercice 1\n",
    "# On a 7 jours de la semaine : Jack, Kack, Lack, Mack, Nack, Oack, Pack et Qack. Ecrivez un petit script qui génère tous ces noms à partir des deux chaînes suivantes : prefixes = 'JKLMNOP' et suffixe = 'ack'\n",
    "prefixe = 'JKLMNOP'\n",
    "suffixe = 'ack'\n",
    "for letter in prefixe:\n",
    "    print(letter+suffixe,end=\" \")"
   ]
  },
  {
   "cell_type": "code",
   "execution_count": 86,
   "metadata": {},
   "outputs": [
    {
     "name": "stdout",
     "output_type": "stream",
     "text": [
      "input une chaine de caractererrre\n",
      "cette chaîne contient la lettre 'e'\n"
     ]
    }
   ],
   "source": [
    "# exercice 2\n",
    "# Ecrire un script qui détermine si une chaîne contient ou non le caractère « e »\n",
    "test = input(\"input une chaine de caractere\")\n",
    "if \"e\" in test:\n",
    "    print(\"cette chaîne contient la lettre 'e'\")\n",
    "else :\n",
    "    print(\"cette chaîne ne contient pas la lettre 'e'\")"
   ]
  },
  {
   "cell_type": "code",
   "execution_count": 13,
   "metadata": {},
   "outputs": [
    {
     "name": "stdout",
     "output_type": "stream",
     "text": [
      "input une chaine de caracteretest\n",
      "*\n",
      "cette chaîne contient la voyelle e\n",
      "*\n",
      "*\n"
     ]
    }
   ],
   "source": [
    "# Exercice 3\n",
    "# Ecrire un script qui parcourt une chaine : lorsqu’il rencontre une voyelle, il l’affiche, si c’est une consonne, il met « * »\n",
    "test = input(\"input une chaine de caractere\")\n",
    "for letter in test: \n",
    "    if letter in \"aeiouyAEIOUYàéîïèâäëù\":\n",
    "        print(\"cette chaîne contient la voyelle \" + letter )\n",
    "    else :\n",
    "        print(\"*\")"
   ]
  },
  {
   "cell_type": "code",
   "execution_count": 210,
   "metadata": {},
   "outputs": [
    {
     "name": "stdout",
     "output_type": "stream",
     "text": [
      "input une chaine de caracteretest\n",
      "t*e*s*t\n"
     ]
    }
   ],
   "source": [
    "# Exercice 4\n",
    "# Ecrire un script qui recopie une chaîne (dans une nouvelle variable), en insérant des astérisques entre les caractères\n",
    "test = input(\"input une chaine de caractere\")\n",
    "result = \"\"\n",
    "length_test = len(test)\n",
    "for i in range(0,length_test):\n",
    "    if i != length_test -1 :\n",
    "        result = result + test[i] + \"*\"\n",
    "    else :\n",
    "        result = result + test[i]\n",
    "    temp = result\n",
    "print(result)"
   ]
  },
  {
   "cell_type": "code",
   "execution_count": 211,
   "metadata": {},
   "outputs": [
    {
     "name": "stdout",
     "output_type": "stream",
     "text": [
      "input une chaine de caractereabcd\n",
      "dcba\n"
     ]
    }
   ],
   "source": [
    "# Ecrire un script qui recopie une chaîne (dans une nouvelle variable) en l’inversant\n",
    "test = input(\"input une chaine de caractere\")\n",
    "result = \"\"\n",
    "length_test = len(test)\n",
    "for i in range(0,length_test):\n",
    "    result = result + test[length_test-1-i]\n",
    "print(result)\n",
    "# end exercise\n",
    "# y a cours le 15 et le 21 nov 2 heures 14:16h cours avec une autre personne"
   ]
  },
  {
   "cell_type": "markdown",
   "metadata": {},
   "source": [
    "## cours2 liste"
   ]
  },
  {
   "cell_type": "markdown",
   "metadata": {},
   "source": [
    "### code"
   ]
  },
  {
   "cell_type": "code",
   "execution_count": 136,
   "metadata": {},
   "outputs": [],
   "source": [
    "jour = [\"lundi\",\"mardi\",\"mercredi\",\"jeudi\",\"vendredi\",\"samedi\",\"dimanche\",1800] # elements mixtes"
   ]
  },
  {
   "cell_type": "code",
   "execution_count": 125,
   "metadata": {},
   "outputs": [
    {
     "data": {
      "text/plain": [
       "1800"
      ]
     },
     "execution_count": 125,
     "metadata": {},
     "output_type": "execute_result"
    }
   ],
   "source": [
    "jour[7]"
   ]
  },
  {
   "cell_type": "code",
   "execution_count": 126,
   "metadata": {},
   "outputs": [],
   "source": [
    "nombre = [5,38,10,25]"
   ]
  },
  {
   "cell_type": "code",
   "execution_count": 130,
   "metadata": {},
   "outputs": [
    {
     "name": "stdout",
     "output_type": "stream",
     "text": [
      "10 [38, 10] [10] 25\n"
     ]
    }
   ],
   "source": [
    "print(nombre[2],nombre[1:3],nombre[2:3],nombre[-1])"
   ]
  },
  {
   "cell_type": "code",
   "execution_count": 132,
   "metadata": {},
   "outputs": [],
   "source": [
    "jour[7]  = jour[7] + 13 # les listes sont modifiables pas comme des chaines de caractere\n",
    "jour[3] = \"Mercredi\""
   ]
  },
  {
   "cell_type": "code",
   "execution_count": 141,
   "metadata": {},
   "outputs": [],
   "source": [
    "len(jour)\n",
    "# del(jour[7])\n",
    "len(jour)\n",
    "jour.append('hehe')"
   ]
  },
  {
   "cell_type": "code",
   "execution_count": 143,
   "metadata": {},
   "outputs": [
    {
     "name": "stdout",
     "output_type": "stream",
     "text": [
      "5 fait partie des nombres premiersP\n"
     ]
    }
   ],
   "source": [
    "n = 5 \n",
    "premier = [1,2,3,5,7,11,13,17]\n",
    "if n in premier:\n",
    "    print(n,\"fait partie des nombres premiersP\")"
   ]
  },
  {
   "cell_type": "code",
   "execution_count": 156,
   "metadata": {},
   "outputs": [],
   "source": [
    "# les listes sont des objets dotees de methodes\n",
    "nombre = [5,38,10,25]\n",
    "nombre.sort()\n",
    "nombre.append(11)\n",
    "nombre.reverse() # inverser l'ordre\n",
    "nombre.index(10)\n",
    "nombre.remove(38)\n",
    "del nombre[2]\n",
    "del nombre[1:3]"
   ]
  },
  {
   "cell_type": "code",
   "execution_count": 157,
   "metadata": {},
   "outputs": [
    {
     "data": {
      "text/plain": [
       "[11]"
      ]
     },
     "execution_count": 157,
     "metadata": {},
     "output_type": "execute_result"
    }
   ],
   "source": [
    "nombre"
   ]
  },
  {
   "cell_type": "code",
   "execution_count": 179,
   "metadata": {},
   "outputs": [
    {
     "data": {
      "text/plain": [
       "['jambon', 'fromage', 'miel', 'confiture', 'chocolat', 'saucisse', 'ketchup']"
      ]
     },
     "execution_count": 179,
     "metadata": {},
     "output_type": "execute_result"
    }
   ],
   "source": [
    "mots = [\"jambon\",\"fromage\",\"confiture\",\"chocolat\"]\n",
    "mots[2:2] = [\"miel\"] # a ne pas confondre avec mots[2:2] = \"miel\"\n",
    "# mots[2:2] = \"miel\"\n",
    "mots\n",
    "mots[5:5] = [\"saucisse\",\"ketchup\"]\n",
    "mots"
   ]
  },
  {
   "cell_type": "code",
   "execution_count": 180,
   "metadata": {},
   "outputs": [
    {
     "data": {
      "text/plain": [
       "['jambon', 'fromage', 'saucisse', 'ketchup']"
      ]
     },
     "execution_count": 180,
     "metadata": {},
     "output_type": "execute_result"
    }
   ],
   "source": [
    "mots[2:5] = []\n",
    "mots"
   ]
  },
  {
   "cell_type": "code",
   "execution_count": 181,
   "metadata": {},
   "outputs": [
    {
     "data": {
      "text/plain": [
       "['jambon', 'salade', 'ketchup']"
      ]
     },
     "execution_count": 181,
     "metadata": {},
     "output_type": "execute_result"
    }
   ],
   "source": [
    "mots[1:3] = ['salade']\n",
    "mots"
   ]
  },
  {
   "cell_type": "code",
   "execution_count": 184,
   "metadata": {},
   "outputs": [
    {
     "data": {
      "text/plain": [
       "['jambon', 'mayo', 'poulet', 'tomate']"
      ]
     },
     "execution_count": 184,
     "metadata": {},
     "output_type": "execute_result"
    }
   ],
   "source": [
    "mots[1:] = ['mayo','poulet','tomate']\n",
    "mots"
   ]
  },
  {
   "cell_type": "code",
   "execution_count": 185,
   "metadata": {},
   "outputs": [
    {
     "data": {
      "text/plain": [
       "[0, 1, 2, 3, 4, 5, 6, 7, 8, 9]"
      ]
     },
     "execution_count": 185,
     "metadata": {},
     "output_type": "execute_result"
    }
   ],
   "source": [
    "list(range(10))"
   ]
  },
  {
   "cell_type": "code",
   "execution_count": 186,
   "metadata": {},
   "outputs": [
    {
     "data": {
      "text/plain": [
       "[3, 6, 9, 12, 15]"
      ]
     },
     "execution_count": 186,
     "metadata": {},
     "output_type": "execute_result"
    }
   ],
   "source": [
    "list(range(3,16,3))  # from to step"
   ]
  },
  {
   "cell_type": "code",
   "execution_count": 187,
   "metadata": {},
   "outputs": [
    {
     "data": {
      "text/plain": [
       "[10, 7, 4, 1, -2, -5, -8]"
      ]
     },
     "execution_count": 187,
     "metadata": {},
     "output_type": "execute_result"
    }
   ],
   "source": [
    "list(range(10,-10,-3))\n",
    "# list(range(3)) ???"
   ]
  },
  {
   "cell_type": "code",
   "execution_count": 193,
   "metadata": {},
   "outputs": [
    {
     "name": "stdout",
     "output_type": "stream",
     "text": [
      "la raison est le mal \n",
      " 10 100 1000\n",
      "\n",
      " 13 169 2197\n",
      "\n",
      " 16 256 4096\n",
      "0 Maitre\n",
      "1 Corbeau\n",
      "2 sur\n",
      "3 un\n"
     ]
    }
   ],
   "source": [
    "# parcourir une liste\n",
    "prov = [\"la\",\"raison\",\"est\",\"le\",\"mal\"]\n",
    "for mot in prov:\n",
    "    print(mot,end=\" \")\n",
    "    \n",
    "for n in range(10,18,3):\n",
    "    print(\"\\n\",n,n**2,n**3)\n",
    "    \n",
    "fable = [\"Maitre\",\"Corbeau\",\"sur\",'un']\n",
    "for index in range(len(fable)):\n",
    "    print(index, fable[index])"
   ]
  },
  {
   "cell_type": "code",
   "execution_count": 197,
   "metadata": {},
   "outputs": [
    {
     "name": "stdout",
     "output_type": "stream",
     "text": [
      "['la', 'raison', 'est', 'le', 'mal', 'la', 'raison', 'est', 'le', 'mal', 'la', 'raison', 'est', 'le', 'mal']\n"
     ]
    },
    {
     "data": {
      "text/plain": [
       "True"
      ]
     },
     "execution_count": 197,
     "metadata": {},
     "output_type": "execute_result"
    }
   ],
   "source": [
    "concat_list = prov + fable\n",
    "multi_list = prov*3\n",
    "print(multi_list)\n",
    "\"la\" in prov"
   ]
  },
  {
   "cell_type": "code",
   "execution_count": 204,
   "metadata": {},
   "outputs": [
    {
     "name": "stdout",
     "output_type": "stream",
     "text": [
      "-6 3 4 5 7 9 \n",
      " [4, 5, 3, -6, 7, 9]\n",
      "[-6, 3, 4, 5, 7, 9]\n"
     ]
    }
   ],
   "source": [
    "# sort list\n",
    "li = [4,5,3,-6,7,9]\n",
    "for n in sorted(li): # ici li n'a pas change\n",
    "    print(n,end=\" \")\n",
    "print(\"\\n\",li)\n",
    "li = [4,5,3,-6,7,9]\n",
    "li.sort() # ici li a change, definition d'une methode sur un objet\n",
    "print(li)"
   ]
  },
  {
   "cell_type": "code",
   "execution_count": 206,
   "metadata": {},
   "outputs": [
    {
     "name": "stdout",
     "output_type": "stream",
     "text": [
      "0 -6\n",
      "1 3\n",
      "2 4\n",
      "3 5\n",
      "4 7\n",
      "5 9\n",
      "0 -6\n",
      "1 3\n",
      "2 4\n",
      "3 5\n",
      "4 7\n",
      "5 9\n"
     ]
    }
   ],
   "source": [
    "# enumerate\n",
    "for i,v in enumerate(li):\n",
    "    print(i,v)\n",
    "# egale\n",
    "for i in range(len(li)):\n",
    "    print(i,li[i])"
   ]
  },
  {
   "cell_type": "code",
   "execution_count": 208,
   "metadata": {},
   "outputs": [
    {
     "data": {
      "text/plain": [
       "['test', 'hehe']"
      ]
     },
     "execution_count": 208,
     "metadata": {},
     "output_type": "execute_result"
    }
   ],
   "source": [
    "# remarques\n",
    "# indentation n'a pas d'importance\n",
    "couleurs = ['test',\n",
    "           \"hehe\"]\n",
    "couleurs"
   ]
  },
  {
   "cell_type": "markdown",
   "metadata": {},
   "source": [
    "### exercice"
   ]
  },
  {
   "cell_type": "code",
   "execution_count": 222,
   "metadata": {},
   "outputs": [
    {
     "data": {
      "text/plain": [
       "24"
      ]
     },
     "execution_count": 222,
     "metadata": {},
     "output_type": "execute_result"
    }
   ],
   "source": [
    "# exercice 1\n",
    "t1 = [31,28,31,30,31,30,31,31,30,31,30,31]\n",
    "t2 = [\"janvier\",\"fevrier\",\"mars\",\"avril\",\"mai\",\"juin\",\"juillet\",\"aout\",\"septembre\",\"octobre\",\"novembre\",\"decembre\"]\n",
    "# creer un t3 = [\"janvier\",31,fevrier,28 etc...]\n",
    "result = []\n",
    "for i in range(len(t1)):\n",
    "    result = result+ [t2[i]] + [t1[i]]\n",
    "result\n",
    "len(result)"
   ]
  },
  {
   "cell_type": "code",
   "execution_count": 224,
   "metadata": {},
   "outputs": [
    {
     "data": {
      "text/plain": [
       "456"
      ]
     },
     "execution_count": 224,
     "metadata": {},
     "output_type": "execute_result"
    }
   ],
   "source": [
    "# exercice 2 \n",
    "# Rechercher le plus grand élément dans une liste de nombres donnée.\n",
    "input = [13,79,1,30,456,16]\n",
    "sorted(input)[len(input)-1]"
   ]
  },
  {
   "cell_type": "code",
   "execution_count": 228,
   "metadata": {},
   "outputs": [
    {
     "name": "stdout",
     "output_type": "stream",
     "text": [
      "[456, 16]\n",
      "[13, 79, 1, 30]\n"
     ]
    }
   ],
   "source": [
    "# exercice 3\n",
    "# A partir d’une liste de nombres donnée, créer deux nouvelles listes : avec les nombres divisibles par 4 et les autres.\n",
    "input = [13,79,1,30,456,16]\n",
    "result1 = []\n",
    "result2 = []\n",
    "for chiffre in input:\n",
    "    if chiffre%4 == 0:\n",
    "        result1= result1 + [chiffre]\n",
    "    else:\n",
    "        result2= result2 + [chiffre]\n",
    "print(result1)\n",
    "print(result2)\n",
    "\n",
    "## end exercices"
   ]
  },
  {
   "cell_type": "markdown",
   "metadata": {},
   "source": [
    "## cours 2 fonctions"
   ]
  },
  {
   "cell_type": "code",
   "execution_count": 16,
   "metadata": {},
   "outputs": [],
   "source": [
    "# raw_input ( ) : This function works in older version (like Python 2.x). This function takes exactly what is typed from the keyboard, convert it to string and then return it to the variable in which we want to store. For example –\n",
    "#!!!! fallait pas le lancer dans jupyter\n",
    "# from turtle import *\n",
    "# forward(120)\n",
    "# main https://realpython.com/python-main-function/\n",
    "# Without the main sentinel, the code would be executed even if the script were imported as a module."
   ]
  },
  {
   "cell_type": "markdown",
   "metadata": {},
   "source": [
    "### note\n",
    "if the content of foo.py\n",
    "\n",
    "print __name__\n",
    "if __name__ == '__main__':\n",
    "    print 'XXXX'\n",
    "A file foo.py can be used in two ways.\n",
    "\n",
    "imported in another file : import foo\n",
    "In this case __name__ is foo, the code section does not get executed and does not print XXXX.\n",
    "\n",
    "executed directly : python foo.py\n",
    "When it is executed directly, __name__ is same as __main__ and the code in that section is executed and prints XXXX\n",
    "\n",
    "One of the use of this functionality to write various kind of unit tests within the same module."
   ]
  }
 ],
 "metadata": {
  "kernelspec": {
   "display_name": "Python 3",
   "language": "python",
   "name": "python3"
  },
  "language_info": {
   "codemirror_mode": {
    "name": "ipython",
    "version": 3
   },
   "file_extension": ".py",
   "mimetype": "text/x-python",
   "name": "python",
   "nbconvert_exporter": "python",
   "pygments_lexer": "ipython3",
   "version": "3.7.0"
  }
 },
 "nbformat": 4,
 "nbformat_minor": 2
}
