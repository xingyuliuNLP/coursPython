{
 "cells": [
  {
   "cell_type": "code",
   "execution_count": 1,
   "metadata": {},
   "outputs": [
    {
     "ename": "TypeError",
     "evalue": "'str' object does not support item assignment",
     "output_type": "error",
     "traceback": [
      "\u001b[0;31m---------------------------------------------------------------------------\u001b[0m",
      "\u001b[0;31mTypeError\u001b[0m                                 Traceback (most recent call last)",
      "\u001b[0;32m<ipython-input-1-55f7cb03d63f>\u001b[0m in \u001b[0;36m<module>\u001b[0;34m\u001b[0m\n\u001b[1;32m      1\u001b[0m \u001b[0;31m# les chaînes sont des séquences non modifiables\u001b[0m\u001b[0;34m\u001b[0m\u001b[0;34m\u001b[0m\u001b[0;34m\u001b[0m\u001b[0m\n\u001b[1;32m      2\u001b[0m \u001b[0mx\u001b[0m \u001b[0;34m=\u001b[0m \u001b[0;34m\"bonjour\"\u001b[0m\u001b[0;34m\u001b[0m\u001b[0;34m\u001b[0m\u001b[0m\n\u001b[0;32m----> 3\u001b[0;31m \u001b[0mx\u001b[0m\u001b[0;34m[\u001b[0m\u001b[0;36m0\u001b[0m\u001b[0;34m]\u001b[0m \u001b[0;34m=\u001b[0m \u001b[0;34m\"B\"\u001b[0m\u001b[0;34m\u001b[0m\u001b[0;34m\u001b[0m\u001b[0m\n\u001b[0m",
      "\u001b[0;31mTypeError\u001b[0m: 'str' object does not support item assignment"
     ]
    }
   ],
   "source": [
    "# les chaînes sont des séquences non modifiables\n",
    "x = \"bonjour\"\n",
    "x[0] = \"B\""
   ]
  },
  {
   "cell_type": "code",
   "execution_count": 2,
   "metadata": {},
   "outputs": [
    {
     "name": "stdout",
     "output_type": "stream",
     "text": [
      "le mot hello precede le mot salut dans l'ordre alphabetique\n"
     ]
    }
   ],
   "source": [
    "n= \"hello\"\n",
    "if n<\"salut\":\n",
    "    place = \"precede\"\n",
    "elif n>\"salut\":\n",
    "    place = \"suit\"\n",
    "else:\n",
    "    place = \"se confond avec\"\n",
    "print(\"le mot\", n, place, \"le mot salut dans l'ordre alphabetique\")"
   ]
  },
  {
   "cell_type": "code",
   "execution_count": 4,
   "metadata": {},
   "outputs": [
    {
     "data": {
      "text/plain": [
       "0"
      ]
     },
     "execution_count": 4,
     "metadata": {},
     "output_type": "execute_result"
    }
   ],
   "source": [
    "int(0)"
   ]
  },
  {
   "cell_type": "code",
   "execution_count": 5,
   "metadata": {},
   "outputs": [
    {
     "name": "stdout",
     "output_type": "stream",
     "text": [
      "0\n",
      "faux\n"
     ]
    }
   ],
   "source": [
    "ch = input()\n",
    "n=int(ch)\n",
    "if n:\n",
    "    print(\"vrai\")\n",
    "else:\n",
    "    print(\"faux\")"
   ]
  },
  {
   "cell_type": "code",
   "execution_count": 7,
   "metadata": {},
   "outputs": [
    {
     "name": "stdout",
     "output_type": "stream",
     "text": [
      "input a word:  \n",
      "le mot   precede le mot 'limonade' dans l'ordre alphabetique\n",
      "input a word: \n"
     ]
    }
   ],
   "source": [
    "while True:\n",
    "    mot = input(\"input a word: \")\n",
    "    if mot == \"\":\n",
    "        break\n",
    "    if mot < \"limonada\":\n",
    "        place = \"precede\"\n",
    "    elif mot > \"limonade\":\n",
    "        place = \" suit\"\n",
    "    else:\n",
    "        place = \"se confond avec\"\n",
    "    print(\"le mot\", mot, place, \"le mot 'limonade' dans l'ordre alphabetique\")"
   ]
  },
  {
   "cell_type": "code",
   "execution_count": 1,
   "metadata": {},
   "outputs": [
    {
     "name": "stdout",
     "output_type": "stream",
     "text": [
      "q pour quitter:q\n",
      "fin\n"
     ]
    }
   ],
   "source": [
    "while 1:\n",
    "    l = input(\"q pour quitter:\")\n",
    "    if l==\"q\":\n",
    "        print(\"fin\")\n",
    "        break"
   ]
  },
  {
   "cell_type": "code",
   "execution_count": 5,
   "metadata": {},
   "outputs": [
    {
     "name": "stdout",
     "output_type": "stream",
     "text": [
      "i= 1\n",
      "i= 2\n",
      "on incremente i de 4, il est mtn egale a, i\n",
      "i= 7\n",
      "i= 8\n",
      "on incremente i de 4, il est mtn egale a, i\n",
      "i= 13\n",
      "i= 14\n",
      "on incremente i de 4, il est mtn egale a, i\n",
      "i= 19\n"
     ]
    }
   ],
   "source": [
    "i=1\n",
    "while i<20:\n",
    "    if i%3==0:\n",
    "        i+=4\n",
    "        print(\"on incremente i de 4, il est mtn egale a, i\")\n",
    "#         continue\n",
    "    print(\"i=\",i)\n",
    "    i+=1"
   ]
  },
  {
   "cell_type": "code",
   "execution_count": 6,
   "metadata": {},
   "outputs": [
    {
     "name": "stdout",
     "output_type": "stream",
     "text": [
      "Jack\n",
      "Kack\n",
      "Lack\n",
      "Mack\n",
      "Nack\n",
      "Oack\n",
      "Pack\n"
     ]
    }
   ],
   "source": [
    "prefix = 'JKLMNOP'\n",
    "for i in range(len(prefix)):\n",
    "    print(prefix[i] + \"ack\")"
   ]
  },
  {
   "cell_type": "code",
   "execution_count": 3,
   "metadata": {},
   "outputs": [
    {
     "name": "stdout",
     "output_type": "stream",
     "text": [
      "end\n",
      "yes\n"
     ]
    }
   ],
   "source": [
    "suite = input()\n",
    "suite_str = str(suite)\n",
    "if \"e\" in suite:\n",
    "    print(\"yes\")\n",
    "else:\n",
    "    print(\"n\")"
   ]
  },
  {
   "cell_type": "code",
   "execution_count": 4,
   "metadata": {},
   "outputs": [
    {
     "name": "stdout",
     "output_type": "stream",
     "text": [
      "rebecca\n",
      "*\n",
      "voyelle\n",
      "*\n",
      "voyelle\n",
      "*\n",
      "*\n",
      "voyelle\n"
     ]
    }
   ],
   "source": [
    "suite1 = input()\n",
    "suite_str1 = str(suite1)\n",
    "for car in suite1:\n",
    "    if car in \"aeiouAEIOU\":\n",
    "        print(\"voyelle\")\n",
    "    else:\n",
    "        print(\"*\")"
   ]
  },
  {
   "cell_type": "code",
   "execution_count": 12,
   "metadata": {},
   "outputs": [
    {
     "name": "stdout",
     "output_type": "stream",
     "text": [
      "abcd\n",
      "a*b*c*d\n"
     ]
    }
   ],
   "source": [
    "suite2 = input()\n",
    "resultat=\"\"\n",
    "suite_str2 = str(suite2)\n",
    "for car in suite_str2:\n",
    "    resultat = resultat + car + \"*\"\n",
    "resultat_final = resultat[:-1]\n",
    "print(resultat_final)"
   ]
  },
  {
   "cell_type": "code",
   "execution_count": 1,
   "metadata": {},
   "outputs": [
    {
     "name": "stdout",
     "output_type": "stream",
     "text": [
      "abcd\n",
      "dcba\n"
     ]
    }
   ],
   "source": [
    "suite3 = input()\n",
    "resultat=\"\"\n",
    "suite_str3 = str(suite3)\n",
    "longueur = len(suite_str3)\n",
    "for i in range(longueur):\n",
    "    if i>0:\n",
    "        resultat = resultat + suite_str3[-i]\n",
    "resultat = resultat + suite_str3[0]\n",
    "print(resultat)"
   ]
  },
  {
   "cell_type": "code",
   "execution_count": 11,
   "metadata": {},
   "outputs": [
    {
     "name": "stdout",
     "output_type": "stream",
     "text": [
      "1,2,3\n"
     ]
    },
    {
     "data": {
      "text/plain": [
       "[1, 2, 3]"
      ]
     },
     "execution_count": 11,
     "metadata": {},
     "output_type": "execute_result"
    }
   ],
   "source": [
    "## eval()\n",
    "ch = input()\n",
    "list(eval(ch))"
   ]
  },
  {
   "cell_type": "code",
   "execution_count": 1,
   "metadata": {},
   "outputs": [],
   "source": [
    "from turtle import *\n",
    "forward(120)\n",
    "left(90)\n",
    "color(\"red\")\n",
    "forward(80)"
   ]
  },
  {
   "cell_type": "code",
   "execution_count": 8,
   "metadata": {},
   "outputs": [],
   "source": [
    "reset()"
   ]
  },
  {
   "cell_type": "code",
   "execution_count": 7,
   "metadata": {},
   "outputs": [],
   "source": [
    "a=0\n",
    "while a<12:\n",
    "    a=a+1\n",
    "    forward(150)\n",
    "    left(150)"
   ]
  },
  {
   "cell_type": "code",
   "execution_count": 2,
   "metadata": {},
   "outputs": [
    {
     "data": {
      "text/plain": [
       "[2]"
      ]
     },
     "execution_count": 2,
     "metadata": {},
     "output_type": "execute_result"
    }
   ],
   "source": [
    "# method(object.method) fonction attached to object\n",
    "\n",
    "liste=[0,1,2,3]\n",
    "liste[2:3]"
   ]
  },
  {
   "cell_type": "markdown",
   "metadata": {},
   "source": [
    "#### import module vs. from module import *\n",
    "import module <br>\n",
    "module.fonction\n",
    "\n",
    "from module import*<br>\n",
    "fonction"
   ]
  },
  {
   "cell_type": "markdown",
   "metadata": {},
   "source": [
    "### exercices list"
   ]
  },
  {
   "cell_type": "code",
   "execution_count": 10,
   "metadata": {},
   "outputs": [
    {
     "name": "stdout",
     "output_type": "stream",
     "text": [
      "['Janvier', 31, 'Fevrier', 28, 'Mars', 31, 'Avril', 30, 'Mai', 31, 'Juin', 30, 'Juillet', 31, 'Aout', 31, 'Septembre', 30, 'Octobre', 31, 'Novembre', 30, 'Decembre', 31]\n"
     ]
    }
   ],
   "source": [
    "t1 = [31,28,31,30,31,30,31,31,30,31,30,31]\n",
    "t2=['Janvier','Fevrier','Mars','Avril','Mai','Juin','Juillet','Aout','Septembre','Octobre','Novembre','Decembre']\n",
    "t3 = []\n",
    "for i in range(len(t1)):\n",
    "    t3.append(t2[i])\n",
    "    t3.append(t1[i])\n",
    "print(t3)"
   ]
  },
  {
   "cell_type": "code",
   "execution_count": 19,
   "metadata": {},
   "outputs": [
    {
     "name": "stdout",
     "output_type": "stream",
     "text": [
      "le plus grand element de la liste a la valeur de 456\n"
     ]
    }
   ],
   "source": [
    "t4 = [13, 79, 1, 30, 456, 16]\n",
    "t4 =sorted(t4)\n",
    "print(\"le plus grand element de la liste a la valeur de \"+str(t4[-1]))"
   ]
  },
  {
   "cell_type": "code",
   "execution_count": 23,
   "metadata": {},
   "outputs": [
    {
     "name": "stdout",
     "output_type": "stream",
     "text": [
      "liste des nombres divisibles par 4 : [16, 456]\n",
      "liste des nombres non divisibles par 4 : [1, 13, 30, 79]\n"
     ]
    }
   ],
   "source": [
    "t5=[]\n",
    "t6=[]\n",
    "for t in t4:\n",
    "    if t%4==0:\n",
    "        t5.append(t)\n",
    "    else:\n",
    "        t6.append(t)\n",
    "print(\"liste des nombres divisibles par 4 : \" + str(t5))\n",
    "print(\"liste des nombres non divisibles par 4 : \" + str(t6))"
   ]
  },
  {
   "cell_type": "code",
   "execution_count": 1,
   "metadata": {},
   "outputs": [
    {
     "data": {
      "text/plain": [
       "['this', 'is', 'a', 'test']"
      ]
     },
     "execution_count": 1,
     "metadata": {},
     "output_type": "execute_result"
    }
   ],
   "source": [
    "\"this is a test\".split()"
   ]
  },
  {
   "cell_type": "markdown",
   "metadata": {},
   "source": [
    "### exercices 5"
   ]
  },
  {
   "cell_type": "code",
   "execution_count": 2,
   "metadata": {},
   "outputs": [],
   "source": [
    "def nbrMot(mot, text):\n",
    "    nbr = 0\n",
    "    for m in text.split():\n",
    "        if mot == m:\n",
    "            nbr+=1\n",
    "    return nbr"
   ]
  },
  {
   "cell_type": "code",
   "execution_count": 3,
   "metadata": {},
   "outputs": [
    {
     "data": {
      "text/plain": [
       "2"
      ]
     },
     "execution_count": 3,
     "metadata": {},
     "output_type": "execute_result"
    }
   ],
   "source": [
    "nbrMot(\"a\", \"this is a test, a simple test\")"
   ]
  },
  {
   "cell_type": "code",
   "execution_count": 25,
   "metadata": {},
   "outputs": [],
   "source": [
    "def nbrCarac(carac, text):\n",
    "    nbr = 0\n",
    "    for caractere in list(text):\n",
    "        if carac == caractere:\n",
    "            nbr+=1\n",
    "    return nbr"
   ]
  },
  {
   "cell_type": "code",
   "execution_count": 26,
   "metadata": {},
   "outputs": [
    {
     "data": {
      "text/plain": [
       "4"
      ]
     },
     "execution_count": 26,
     "metadata": {},
     "output_type": "execute_result"
    }
   ],
   "source": [
    "nbrCarac(\"a\", \"an apple alias\")"
   ]
  },
  {
   "cell_type": "code",
   "execution_count": 6,
   "metadata": {},
   "outputs": [
    {
     "name": "stdout",
     "output_type": "stream",
     "text": [
      "a\n",
      "p\n",
      "p\n",
      "l\n",
      "e\n"
     ]
    }
   ],
   "source": [
    "def nbrSerie(serie, text):\n",
    "    nbr = 0\n",
    "    listS=list(serie)\n",
    "    listT=list(text)\n",
    "    for indexCaracS in range(listS):\n",
    "        for indexCaracT in range(listT):\n",
    "        if listS[indexCaracS] == listT[indexCaracT]:\n",
    "            if listS[indexCaracS+1] == listT[indexCaracT+1]:\n",
    "                "
   ]
  },
  {
   "cell_type": "code",
   "execution_count": null,
   "metadata": {},
   "outputs": [],
   "source": [
    "# isupper()\n",
    "def isMajus(m):\n",
    "    if m in [\"A\",\"B\",\"C\",\"D\",\"E\",\"F\",\"G\",\"H\",\"I\",\"J\",\"K\",\"L\",\"M\",\"N\",\"O\",\"P\",\"Q\",\"R\",\"S\",\"T\",\"U\",\"V\",\"W\",\"X\",\"Y\",\"Z\"]:\n",
    "        return True\n",
    "    else:\n",
    "        return False"
   ]
  },
  {
   "cell_type": "code",
   "execution_count": 22,
   "metadata": {},
   "outputs": [],
   "source": [
    "def nomMois(n):\n",
    "    listMois = ['janvier','fevrier','mars','avril','mai','juin','juillet','aout','septembre','octobre','novembre','decembre']\n",
    "    if n>12:\n",
    "        return \"n doit etre inferieur ou egale 12\"\n",
    "    else:\n",
    "        return listMois[n-1]"
   ]
  },
  {
   "cell_type": "code",
   "execution_count": 23,
   "metadata": {},
   "outputs": [
    {
     "data": {
      "text/plain": [
       "'avril'"
      ]
     },
     "execution_count": 23,
     "metadata": {},
     "output_type": "execute_result"
    }
   ],
   "source": [
    "# split()\n",
    "def chaineListe(phrase):\n",
    "    list(phrase)\n",
    "    "
   ]
  },
  {
   "cell_type": "code",
   "execution_count": 24,
   "metadata": {},
   "outputs": [
    {
     "data": {
      "text/plain": [
       "['t', 'h', 'i', 's', ' ', 'i', 's', ' ', 'a', ' ', 't', 'e', 's', 't']"
      ]
     },
     "execution_count": 24,
     "metadata": {},
     "output_type": "execute_result"
    }
   ],
   "source": [
    "list('this is a test')"
   ]
  },
  {
   "cell_type": "code",
   "execution_count": 28,
   "metadata": {},
   "outputs": [
    {
     "data": {
      "text/plain": [
       "['a', 'b', 'c']"
      ]
     },
     "execution_count": 28,
     "metadata": {},
     "output_type": "execute_result"
    }
   ],
   "source": [
    "list('abc')"
   ]
  },
  {
   "cell_type": "code",
   "execution_count": null,
   "metadata": {},
   "outputs": [],
   "source": [
    "def indexMax(liste):\n",
    "    "
   ]
  }
 ],
 "metadata": {
  "kernelspec": {
   "display_name": "Python 3",
   "language": "python",
   "name": "python3"
  },
  "language_info": {
   "codemirror_mode": {
    "name": "ipython",
    "version": 3
   },
   "file_extension": ".py",
   "mimetype": "text/x-python",
   "name": "python",
   "nbconvert_exporter": "python",
   "pygments_lexer": "ipython3",
   "version": "3.7.3"
  }
 },
 "nbformat": 4,
 "nbformat_minor": 2
}
